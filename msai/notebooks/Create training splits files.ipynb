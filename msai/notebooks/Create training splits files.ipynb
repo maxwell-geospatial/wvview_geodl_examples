{
 "cells": [
  {
   "cell_type": "code",
   "execution_count": 1,
   "metadata": {},
   "outputs": [],
   "source": [
    "import fiona\n",
    "import pandas as pd"
   ]
  },
  {
   "cell_type": "markdown",
   "metadata": {},
   "source": [
    "## Using NLCD as labels, train with both years at the same time"
   ]
  },
  {
   "cell_type": "code",
   "execution_count": 2,
   "metadata": {},
   "outputs": [],
   "source": [
    "image_fns = []\n",
    "label_fns = []\n",
    "groups = []\n",
    "with fiona.open(\"../data/dfc2021_index.geojson\") as f:\n",
    "    for row in f:\n",
    "        properties = row[\"properties\"]\n",
    "        image_fns.append(properties[\"naip-2013\"])\n",
    "        label_fns.append(properties[\"nlcd-2013\"])\n",
    "        groups.append(0)\n",
    "        \n",
    "        image_fns.append(properties[\"naip-2017\"])\n",
    "        label_fns.append(properties[\"nlcd-2016\"])\n",
    "        groups.append(1)\n",
    "\n",
    "df = pd.DataFrame.from_dict({\n",
    "    \"image_fn\": image_fns,\n",
    "    \"label_fn\": label_fns,\n",
    "    \"group\": groups\n",
    "})\n",
    "\n",
    "df.to_csv(\"../data/splits/training_set_naip_nlcd_both.csv\", index=False)"
   ]
  },
  {
   "cell_type": "markdown",
   "metadata": {},
   "source": [
    "## Using NLCD as labels, train with a single year at a time"
   ]
  },
  {
   "cell_type": "markdown",
   "metadata": {},
   "source": [
    "### 2013 NAIP, 2013 NLCD"
   ]
  },
  {
   "cell_type": "code",
   "execution_count": 12,
   "metadata": {},
   "outputs": [],
   "source": [
    "image_fns = []\n",
    "label_fns = []\n",
    "groups = []\n",
    "with fiona.open(\"../data/dfc2021_index.geojson\") as f:\n",
    "    for row in f:\n",
    "        properties = row[\"properties\"]\n",
    "        image_fns.append(properties[\"naip-2013\"])\n",
    "        label_fns.append(properties[\"nlcd-2013\"])\n",
    "        groups.append(0)\n",
    "\n",
    "df = pd.DataFrame.from_dict({\n",
    "    \"image_fn\": image_fns,\n",
    "    \"label_fn\": label_fns,\n",
    "    \"group\": groups\n",
    "})\n",
    "\n",
    "df.to_csv(\"../data/splits/training_set_naip_nlcd_2013.csv\", index=False)"
   ]
  },
  {
   "cell_type": "markdown",
   "metadata": {},
   "source": [
    "### 2017 NAIP, 2016 NLCD"
   ]
  },
  {
   "cell_type": "code",
   "execution_count": 13,
   "metadata": {},
   "outputs": [],
   "source": [
    "image_fns = []\n",
    "label_fns = []\n",
    "groups = []\n",
    "with fiona.open(\"../data/dfc2021_index.geojson\") as f:\n",
    "    for row in f:\n",
    "        properties = row[\"properties\"]\n",
    "        image_fns.append(properties[\"naip-2017\"])\n",
    "        label_fns.append(properties[\"nlcd-2016\"])\n",
    "        groups.append(1)\n",
    "\n",
    "df = pd.DataFrame.from_dict({\n",
    "    \"image_fn\": image_fns,\n",
    "    \"label_fn\": label_fns,\n",
    "    \"group\": groups\n",
    "})\n",
    "\n",
    "df.to_csv(\"../data/splits/training_set_naip_nlcd_2017.csv\", index=False)"
   ]
  }
 ],
 "metadata": {
  "kernelspec": {
   "display_name": "dfc2021",
   "language": "python",
   "name": "dfc2021"
  },
  "language_info": {
   "codemirror_mode": {
    "name": "ipython",
    "version": 3
   },
   "file_extension": ".py",
   "mimetype": "text/x-python",
   "name": "python",
   "nbconvert_exporter": "python",
   "pygments_lexer": "ipython3",
   "version": "3.8.5"
  }
 },
 "nbformat": 4,
 "nbformat_minor": 2
}
