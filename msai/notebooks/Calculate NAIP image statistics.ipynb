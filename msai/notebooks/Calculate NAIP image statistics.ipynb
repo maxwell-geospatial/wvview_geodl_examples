{
 "cells": [
  {
   "cell_type": "code",
   "execution_count": 19,
   "metadata": {},
   "outputs": [],
   "source": [
    "import fiona\n",
    "import rasterio\n",
    "\n",
    "import numpy as np\n",
    "import pandas as pd"
   ]
  },
  {
   "cell_type": "code",
   "execution_count": 12,
   "metadata": {},
   "outputs": [],
   "source": [
    "naip_2013_fns = []\n",
    "naip_2017_fns = []\n",
    "with fiona.open(\"../data/dfc2021_index.geojson\") as f:\n",
    "    for row in f:\n",
    "        properties = row[\"properties\"]\n",
    "        naip_2013_fns.append(properties[\"naip-2013\"])      \n",
    "        naip_2017_fns.append(properties[\"naip-2017\"])"
   ]
  },
  {
   "cell_type": "code",
   "execution_count": 57,
   "metadata": {},
   "outputs": [
    {
     "name": "stdout",
     "output_type": "stream",
     "text": [
      "0 2250\n",
      "100 2250\n",
      "200 2250\n",
      "300 2250\n",
      "400 2250\n",
      "500 2250\n",
      "600 2250\n",
      "700 2250\n",
      "800 2250\n",
      "900 2250\n",
      "1000 2250\n",
      "1100 2250\n",
      "1200 2250\n",
      "1300 2250\n",
      "1400 2250\n",
      "1500 2250\n",
      "1600 2250\n",
      "1700 2250\n",
      "1800 2250\n",
      "1900 2250\n",
      "2000 2250\n",
      "2100 2250\n",
      "2200 2250\n"
     ]
    }
   ],
   "source": [
    "sampled_pixels = []\n",
    "\n",
    "for i, fn in enumerate(naip_2013_fns):\n",
    "    if i % 100 == 0:\n",
    "        print(i, len(naip_2013_fns))\n",
    "    with rasterio.open(fn) as f:\n",
    "        data = f.read().reshape(4,-1)\n",
    "        \n",
    "    mask = np.sum(data==0, axis=0) == 4\n",
    "    data = data[:,~mask]\n",
    "    num_samples = min(int(1e5), data.shape[1])\n",
    "    idxs = np.random.choice(data.shape[1], size=num_samples)\n",
    "    \n",
    "    pixels = data[:,idxs]\n",
    "    sampled_pixels.append(pixels)"
   ]
  },
  {
   "cell_type": "code",
   "execution_count": 61,
   "metadata": {},
   "outputs": [],
   "source": [
    "sampled_pixels = np.concatenate(sampled_pixels, axis=1)"
   ]
  },
  {
   "cell_type": "code",
   "execution_count": 63,
   "metadata": {},
   "outputs": [
    {
     "data": {
      "text/plain": [
       "array([117.00209561, 130.7450301 , 122.49708863, 159.29880331])"
      ]
     },
     "execution_count": 63,
     "metadata": {},
     "output_type": "execute_result"
    }
   ],
   "source": [
    "sampled_pixels.mean(axis=1, dtype=np.float64)"
   ]
  },
  {
   "cell_type": "code",
   "execution_count": 64,
   "metadata": {},
   "outputs": [
    {
     "data": {
      "text/plain": [
       "array([38.16284038, 36.67787379, 24.29653016, 66.22487842])"
      ]
     },
     "execution_count": 64,
     "metadata": {},
     "output_type": "execute_result"
    }
   ],
   "source": [
    "sampled_pixels.std(axis=1, dtype=np.float64)"
   ]
  },
  {
   "cell_type": "code",
   "execution_count": 65,
   "metadata": {},
   "outputs": [
    {
     "name": "stdout",
     "output_type": "stream",
     "text": [
      "0 2250\n",
      "100 2250\n",
      "200 2250\n",
      "300 2250\n",
      "400 2250\n",
      "500 2250\n",
      "600 2250\n",
      "700 2250\n",
      "800 2250\n",
      "900 2250\n",
      "1000 2250\n",
      "1100 2250\n",
      "1200 2250\n",
      "1300 2250\n",
      "1400 2250\n",
      "1500 2250\n",
      "1600 2250\n",
      "1700 2250\n",
      "1800 2250\n",
      "1900 2250\n",
      "2000 2250\n",
      "2100 2250\n",
      "2200 2250\n"
     ]
    }
   ],
   "source": [
    "sampled_pixels = []\n",
    "\n",
    "for i, fn in enumerate(naip_2017_fns):\n",
    "    if i % 100 == 0:\n",
    "        print(i, len(naip_2017_fns))\n",
    "    with rasterio.open(fn) as f:\n",
    "        data = f.read().reshape(4,-1)\n",
    "        \n",
    "    mask = np.sum(data==0, axis=0) == 4\n",
    "    data = data[:,~mask]\n",
    "    num_samples = min(int(1e5), data.shape[1])\n",
    "    idxs = np.random.choice(data.shape[1], size=num_samples)\n",
    "    \n",
    "    pixels = data[:,idxs]\n",
    "    sampled_pixels.append(pixels)"
   ]
  },
  {
   "cell_type": "code",
   "execution_count": 66,
   "metadata": {},
   "outputs": [],
   "source": [
    "sampled_pixels = np.concatenate(sampled_pixels, axis=1)"
   ]
  },
  {
   "cell_type": "code",
   "execution_count": 67,
   "metadata": {},
   "outputs": [
    {
     "data": {
      "text/plain": [
       "array([ 72.84036072,  86.83287392,  76.78157846, 130.82056531])"
      ]
     },
     "execution_count": 67,
     "metadata": {},
     "output_type": "execute_result"
    }
   ],
   "source": [
    "sampled_pixels.mean(axis=1, dtype=np.float64)"
   ]
  },
  {
   "cell_type": "code",
   "execution_count": 68,
   "metadata": {},
   "outputs": [
    {
     "data": {
      "text/plain": [
       "array([41.77634937, 34.65967416, 28.75779489, 58.94652752])"
      ]
     },
     "execution_count": 68,
     "metadata": {},
     "output_type": "execute_result"
    }
   ],
   "source": [
    "sampled_pixels.std(axis=1, dtype=np.float64)"
   ]
  }
 ],
 "metadata": {
  "kernelspec": {
   "display_name": "dfc2021",
   "language": "python",
   "name": "dfc2021"
  },
  "language_info": {
   "codemirror_mode": {
    "name": "ipython",
    "version": 3
   },
   "file_extension": ".py",
   "mimetype": "text/x-python",
   "name": "python",
   "nbconvert_exporter": "python",
   "pygments_lexer": "ipython3",
   "version": "3.8.5"
  }
 },
 "nbformat": 4,
 "nbformat_minor": 2
}
