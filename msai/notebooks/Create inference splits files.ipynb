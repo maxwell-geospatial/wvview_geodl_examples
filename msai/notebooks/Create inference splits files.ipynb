{
 "cells": [
  {
   "cell_type": "code",
   "execution_count": 1,
   "metadata": {},
   "outputs": [],
   "source": [
    "import fiona\n",
    "import pandas as pd"
   ]
  },
  {
   "cell_type": "markdown",
   "metadata": {},
   "source": [
    "## Validation set"
   ]
  },
  {
   "cell_type": "code",
   "execution_count": 2,
   "metadata": {},
   "outputs": [
    {
     "name": "stdout",
     "output_type": "stream",
     "text": [
      "50\n"
     ]
    }
   ],
   "source": [
    "with open(\"../data/val_tiles.txt\", \"r\") as f:\n",
    "    val_idxs = set(list(map(int, f.read().strip().split(\"\\n\"))))\n",
    "print(len(val_idxs))"
   ]
  },
  {
   "cell_type": "code",
   "execution_count": 3,
   "metadata": {},
   "outputs": [],
   "source": [
    "image_fns = []\n",
    "label_fns = []\n",
    "groups = []\n",
    "with fiona.open(\"../data/dfc2021_index.geojson\") as f:\n",
    "    for row in f:\n",
    "        properties = row[\"properties\"]\n",
    "        if properties[\"idx\"] in val_idxs:\n",
    "            image_fns.append(properties[\"naip-2013\"])\n",
    "            label_fns.append(properties[\"nlcd-2013\"])\n",
    "            groups.append(0)\n",
    "\n",
    "            image_fns.append(properties[\"naip-2017\"])\n",
    "            label_fns.append(properties[\"nlcd-2016\"])\n",
    "            groups.append(1)\n",
    "            \n",
    "df = pd.DataFrame.from_dict({\n",
    "    \"image_fn\": image_fns,\n",
    "    \"label_fn\": label_fns,\n",
    "    \"group\": groups\n",
    "})\n",
    "df.to_csv(\"../data/splits/val_inference_both.csv\", index=False)"
   ]
  },
  {
   "cell_type": "code",
   "execution_count": 3,
   "metadata": {},
   "outputs": [],
   "source": [
    "image_fns = []\n",
    "label_fns = []\n",
    "groups = []\n",
    "with fiona.open(\"../data/dfc2021_index.geojson\") as f:\n",
    "    for row in f:\n",
    "        properties = row[\"properties\"]\n",
    "        if properties[\"idx\"] in val_idxs:\n",
    "            image_fns.append(properties[\"naip-2013\"])\n",
    "            label_fns.append(properties[\"nlcd-2013\"])\n",
    "            groups.append(0)\n",
    "            \n",
    "df = pd.DataFrame.from_dict({\n",
    "    \"image_fn\": image_fns,\n",
    "    \"label_fn\": label_fns,\n",
    "    \"group\": groups\n",
    "})\n",
    "df.to_csv(\"../data/splits/val_inference_2013.csv\", index=False)"
   ]
  },
  {
   "cell_type": "code",
   "execution_count": 4,
   "metadata": {},
   "outputs": [],
   "source": [
    "image_fns = []\n",
    "label_fns = []\n",
    "groups = []\n",
    "with fiona.open(\"../data/dfc2021_index.geojson\") as f:\n",
    "    for row in f:\n",
    "        properties = row[\"properties\"]\n",
    "        if properties[\"idx\"] in val_idxs:\n",
    "            image_fns.append(properties[\"naip-2017\"])\n",
    "            label_fns.append(properties[\"nlcd-2016\"])\n",
    "            groups.append(1)\n",
    "            \n",
    "df = pd.DataFrame.from_dict({\n",
    "    \"image_fn\": image_fns,\n",
    "    \"label_fn\": label_fns,\n",
    "    \"group\": groups\n",
    "})\n",
    "df.to_csv(\"../data/splits/val_inference_2017.csv\", index=False)"
   ]
  },
  {
   "cell_type": "markdown",
   "metadata": {},
   "source": [
    "## Test set"
   ]
  },
  {
   "cell_type": "code",
   "execution_count": null,
   "metadata": {},
   "outputs": [],
   "source": [
    "with open(\"../data/test_tiles.txt\", \"r\") as f:\n",
    "    test_idxs = set(list(map(int, f.read().strip().split(\"\\n\"))))\n",
    "print(len(test_idxs))"
   ]
  },
  {
   "cell_type": "code",
   "execution_count": null,
   "metadata": {},
   "outputs": [],
   "source": [
    "image_fns = []\n",
    "label_fns = []\n",
    "groups = []\n",
    "with fiona.open(\"../data/dfc2021_index.geojson\") as f:\n",
    "    for row in f:\n",
    "        properties = row[\"properties\"]\n",
    "        if properties[\"idx\"] in test_idxs:\n",
    "            image_fns.append(properties[\"naip-2013\"])\n",
    "            label_fns.append(properties[\"nlcd-2013\"])\n",
    "            groups.append(0)\n",
    "\n",
    "            image_fns.append(properties[\"naip-2017\"])\n",
    "            label_fns.append(properties[\"nlcd-2016\"])\n",
    "            groups.append(1)"
   ]
  },
  {
   "cell_type": "code",
   "execution_count": null,
   "metadata": {},
   "outputs": [],
   "source": [
    "df = pd.DataFrame.from_dict({\n",
    "    \"image_fn\": image_fns,\n",
    "    \"label_fn\": label_fns,\n",
    "    \"group\": groups\n",
    "})\n",
    "df.to_csv(\"../data/splits/test_inference.csv\", index=False)"
   ]
  }
 ],
 "metadata": {
  "kernelspec": {
   "display_name": "dfc2021",
   "language": "python",
   "name": "dfc2021"
  },
  "language_info": {
   "codemirror_mode": {
    "name": "ipython",
    "version": 3
   },
   "file_extension": ".py",
   "mimetype": "text/x-python",
   "name": "python",
   "nbconvert_exporter": "python",
   "pygments_lexer": "ipython3",
   "version": "3.8.5"
  }
 },
 "nbformat": 4,
 "nbformat_minor": 2
}
